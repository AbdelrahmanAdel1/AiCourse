{
 "cells": [
  {
   "cell_type": "code",
   "execution_count": 32,
   "metadata": {},
   "outputs": [
    {
     "name": "stdout",
     "output_type": "stream",
     "text": [
      "1 1 1 1 1 4 5 6 7 8\n",
      "Mod :  [1]\n",
      "Number of mod appearnces :  5\n",
      "Number of elements in data :  10\n",
      "Percentage of mod appearnces :  50.0\n"
     ]
    }
   ],
   "source": [
    "data=list(map(int,input().split()))\n",
    "dic=dict()\n",
    "mod=[]\n",
    "#getting the numbers from the data and calculatin their appearance in the data\n",
    "for i in range (len(data)):\n",
    "#if the number already exist in the dictionary then increase its key value by one\n",
    "    if(data[i] in dic.keys()):\n",
    "        dic[data[i]]=dic.get(data[i])+1\n",
    "#if it is the first appearnce then add it to the dictionary and increase its key by one\n",
    "    else:\n",
    "        dic[data[i]]=1\n",
    "#to calculate the mod value\n",
    "for key, value in dic.items():\n",
    "#checking if the value of each key is equal to the max number of appearnces to see if there is more than one mod\n",
    "         if (max(dic.values()) == value):\n",
    "            mod.append(key)\n",
    "print(\"Mod : \",mod)\n",
    "print(\"Number of mod appearnces : \",max(dic.values()))\n",
    "print(\"Number of elements in data : \",len(data))\n",
    "print(\"Percentage of mod appearnces : \",((max(dic.values())/len(data))*100))\n",
    "\n",
    "#input sample : 1 1 1 1 1 3 2 3 4 2 3 4 6 6 50 50 50 7 50 50 3 3"
   ]
  },
  {
   "cell_type": "code",
   "execution_count": null,
   "metadata": {},
   "outputs": [],
   "source": []
  }
 ],
 "metadata": {
  "kernelspec": {
   "display_name": "Python 3",
   "language": "python",
   "name": "python3"
  },
  "language_info": {
   "codemirror_mode": {
    "name": "ipython",
    "version": 3
   },
   "file_extension": ".py",
   "mimetype": "text/x-python",
   "name": "python",
   "nbconvert_exporter": "python",
   "pygments_lexer": "ipython3",
   "version": "3.7.6"
  }
 },
 "nbformat": 4,
 "nbformat_minor": 4
}
