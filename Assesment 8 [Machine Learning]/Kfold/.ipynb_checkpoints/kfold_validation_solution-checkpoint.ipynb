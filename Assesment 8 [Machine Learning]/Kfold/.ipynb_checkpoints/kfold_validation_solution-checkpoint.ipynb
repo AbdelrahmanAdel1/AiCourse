{
 "cells": [
  {
   "cell_type": "code",
   "execution_count": 1,
   "id": "feb5d9a7",
   "metadata": {
    "ExecuteTime": {
     "end_time": "2021-07-31T13:20:07.212684Z",
     "start_time": "2021-07-31T13:20:05.751214Z"
    }
   },
   "outputs": [],
   "source": [
    "from sklearn.datasets import load_iris\n",
    "from sklearn.model_selection import cross_val_score\n",
    "from sklearn.linear_model import LogisticRegression\n",
    "from sklearn.svm import SVC\n",
    "from sklearn.tree import DecisionTreeClassifier\n",
    "from sklearn.ensemble import RandomForestClassifier\n",
    "import numpy as np"
   ]
  },
  {
   "cell_type": "code",
   "execution_count": 3,
   "id": "1ede5b35",
   "metadata": {
    "ExecuteTime": {
     "end_time": "2021-07-31T13:20:46.352487Z",
     "start_time": "2021-07-31T13:20:46.333471Z"
    }
   },
   "outputs": [],
   "source": [
    "dataset=load_iris()"
   ]
  },
  {
   "cell_type": "code",
   "execution_count": 4,
   "id": "206bf94a",
   "metadata": {
    "ExecuteTime": {
     "end_time": "2021-07-31T13:20:48.540827Z",
     "start_time": "2021-07-31T13:20:48.525819Z"
    }
   },
   "outputs": [],
   "source": [
    "X=dataset.data"
   ]
  },
  {
   "cell_type": "code",
   "execution_count": 5,
   "id": "63874434",
   "metadata": {
    "ExecuteTime": {
     "end_time": "2021-07-31T13:20:50.937907Z",
     "start_time": "2021-07-31T13:20:50.930921Z"
    }
   },
   "outputs": [],
   "source": [
    "y=dataset.target"
   ]
  },
  {
   "cell_type": "code",
   "execution_count": 6,
   "id": "e2caa4fa",
   "metadata": {
    "ExecuteTime": {
     "end_time": "2021-07-31T13:20:53.435624Z",
     "start_time": "2021-07-31T13:20:53.397633Z"
    }
   },
   "outputs": [
    {
     "data": {
      "text/plain": [
       "0.9533333333333333"
      ]
     },
     "execution_count": 6,
     "metadata": {},
     "output_type": "execute_result"
    }
   ],
   "source": [
    "score=cross_val_score(LogisticRegression(solver='liblinear',multi_class='ovr'),X, y,cv=3)\n",
    "np.average(score)"
   ]
  },
  {
   "cell_type": "code",
   "execution_count": 7,
   "id": "375f33b5",
   "metadata": {
    "ExecuteTime": {
     "end_time": "2021-07-31T13:21:10.989385Z",
     "start_time": "2021-07-31T13:21:10.958400Z"
    }
   },
   "outputs": [
    {
     "data": {
      "text/plain": [
       "0.96"
      ]
     },
     "execution_count": 7,
     "metadata": {},
     "output_type": "execute_result"
    }
   ],
   "source": [
    "score=cross_val_score(SVC(), X,y,cv=3)\n",
    "np.average(score)"
   ]
  },
  {
   "cell_type": "code",
   "execution_count": 8,
   "id": "888f9c6e",
   "metadata": {
    "ExecuteTime": {
     "end_time": "2021-07-31T13:21:21.448381Z",
     "start_time": "2021-07-31T13:21:21.423381Z"
    }
   },
   "outputs": [
    {
     "data": {
      "text/plain": [
       "0.9733333333333333"
      ]
     },
     "execution_count": 8,
     "metadata": {},
     "output_type": "execute_result"
    }
   ],
   "source": [
    "score=cross_val_score(DecisionTreeClassifier(), X, y,cv=3)\n",
    "np.average(score)"
   ]
  },
  {
   "cell_type": "code",
   "execution_count": 9,
   "id": "7d01093f",
   "metadata": {
    "ExecuteTime": {
     "end_time": "2021-07-31T13:21:33.134718Z",
     "start_time": "2021-07-31T13:21:32.635000Z"
    }
   },
   "outputs": [
    {
     "data": {
      "text/plain": [
       "0.9666666666666667"
      ]
     },
     "execution_count": 9,
     "metadata": {},
     "output_type": "execute_result"
    }
   ],
   "source": [
    "score=cross_val_score(RandomForestClassifier(), X, y,cv=3)\n",
    "np.average(score)"
   ]
  },
  {
   "cell_type": "markdown",
   "id": "6cf4bdb4",
   "metadata": {},
   "source": [
    "All Models except the logistic resgression were able to achivie a score of 98%\n",
    "\n",
    "After taking the average of all the validations divations the Decision Tree classifier showed the best percentage with 0.9733333333333333"
   ]
  }
 ],
 "metadata": {
  "kernelspec": {
   "display_name": "Python 3",
   "language": "python",
   "name": "python3"
  },
  "language_info": {
   "codemirror_mode": {
    "name": "ipython",
    "version": 3
   },
   "file_extension": ".py",
   "mimetype": "text/x-python",
   "name": "python",
   "nbconvert_exporter": "python",
   "pygments_lexer": "ipython3",
   "version": "3.8.8"
  },
  "toc": {
   "base_numbering": 1,
   "nav_menu": {},
   "number_sections": true,
   "sideBar": true,
   "skip_h1_title": false,
   "title_cell": "Table of Contents",
   "title_sidebar": "Contents",
   "toc_cell": false,
   "toc_position": {},
   "toc_section_display": true,
   "toc_window_display": false
  },
  "varInspector": {
   "cols": {
    "lenName": 16,
    "lenType": 16,
    "lenVar": 40
   },
   "kernels_config": {
    "python": {
     "delete_cmd_postfix": "",
     "delete_cmd_prefix": "del ",
     "library": "var_list.py",
     "varRefreshCmd": "print(var_dic_list())"
    },
    "r": {
     "delete_cmd_postfix": ") ",
     "delete_cmd_prefix": "rm(",
     "library": "var_list.r",
     "varRefreshCmd": "cat(var_dic_list()) "
    }
   },
   "types_to_exclude": [
    "module",
    "function",
    "builtin_function_or_method",
    "instance",
    "_Feature"
   ],
   "window_display": false
  }
 },
 "nbformat": 4,
 "nbformat_minor": 5
}
